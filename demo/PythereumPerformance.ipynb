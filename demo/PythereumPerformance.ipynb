{
 "cells": [
  {
   "cell_type": "markdown",
   "id": "543891ff",
   "metadata": {},
   "source": [
    "## A comparison of Pythereum to Web3.py in performance, functionality and ease of use"
   ]
  },
  {
   "cell_type": "code",
   "execution_count": 1,
   "id": "9b1914fe",
   "metadata": {},
   "outputs": [],
   "source": [
    "import asyncio\n",
    "\n",
    "import pythereum as pye\n",
    "\n",
    "from eth_account import Account\n",
    "from time import time\n",
    "from web3 import AsyncWeb3, AsyncHTTPProvider\n",
    "from ens import AsyncENS"
   ]
  },
  {
   "cell_type": "code",
   "execution_count": 2,
   "id": "5c7e8497",
   "metadata": {},
   "outputs": [],
   "source": [
    "# Test parameters\n",
    "iterations = 1_000_000\n",
    "connection_url = \"127.0.0.1:8545\""
   ]
  },
  {
   "cell_type": "code",
   "execution_count": 9,
   "id": "594e9c8f",
   "metadata": {},
   "outputs": [
    {
     "name": "stdout",
     "output_type": "stream",
     "text": [
      "pythereum processed 100 get_block_by_number requests in 0.08796906471252441 seconds\n",
      "that's 1136.7632511132372 requests per second!\n",
      "Web3.py processed 100 get_block_by_number requests in 0.07911086082458496 seconds\n",
      "that's 1264.0489429350691 requests per second\n",
      "pythereum processed 1100 get_block_by_number requests in 0.14177823066711426 seconds\n",
      "that's 7758.595905902691 requests per second!\n",
      "Web3.py processed 1100 get_block_by_number requests in 0.3282904624938965 seconds\n",
      "that's 3350.6913105051017 requests per second\n",
      "pythereum processed 2100 get_block_by_number requests in 0.2990143299102783 seconds\n",
      "that's 7023.074782503307 requests per second!\n",
      "Web3.py processed 2100 get_block_by_number requests in 1.4851176738739014 seconds\n",
      "that's 1414.0293640989335 requests per second\n",
      "pythereum processed 3100 get_block_by_number requests in 0.418917179107666 seconds\n",
      "that's 7400.030733051576 requests per second!\n",
      "Web3.py processed 3100 get_block_by_number requests in 1.0836989879608154 seconds\n",
      "that's 2860.57293993901 requests per second\n",
      "pythereum processed 4100 get_block_by_number requests in 0.5652954578399658 seconds\n",
      "that's 7252.844407535826 requests per second!\n",
      "Web3.py processed 4100 get_block_by_number requests in 1.4815104007720947 seconds\n",
      "that's 2767.445978012216 requests per second\n",
      "pythereum processed 5100 get_block_by_number requests in 0.7012712955474854 seconds\n",
      "that's 7272.506421382055 requests per second!\n",
      "Web3.py processed 5100 get_block_by_number requests in 1.8341140747070312 seconds\n",
      "that's 2780.634023984925 requests per second\n",
      "pythereum processed 6100 get_block_by_number requests in 0.8624625205993652 seconds\n",
      "that's 7072.771110982106 requests per second!\n",
      "Web3.py processed 6100 get_block_by_number requests in 2.9292690753936768 seconds\n",
      "that's 2082.4307508111715 requests per second\n",
      "pythereum processed 7100 get_block_by_number requests in 1.8652803897857666 seconds\n",
      "that's 3806.398243866949 requests per second!\n",
      "Web3.py processed 7100 get_block_by_number requests in 4.042876243591309 seconds\n",
      "that's 1756.1754484211053 requests per second\n",
      "pythereum processed 8100 get_block_by_number requests in 1.827970027923584 seconds\n",
      "that's 4431.144863573557 requests per second!\n",
      "Web3.py processed 8100 get_block_by_number requests in 4.042166233062744 seconds\n",
      "that's 2003.8760241343762 requests per second\n",
      "pythereum processed 9100 get_block_by_number requests in 1.4158656597137451 seconds\n",
      "that's 6427.163437129909 requests per second!\n",
      "Web3.py processed 9100 get_block_by_number requests in 3.1503562927246094 seconds\n",
      "that's 2888.562167084218 requests per second\n",
      "\n",
      "On average pythereum processed 5619.470822295267 requests per second and web3.py processed 2248.6728827764273 requests per second\n",
      "That's a 2.4990165823305204 times speedup!\n"
     ]
    }
   ],
   "source": [
    "nsum = 0\n",
    "pyetimesum = 0\n",
    "w3timesum = 0\n",
    "\n",
    "w3 = AsyncWeb3(AsyncHTTPProvider(f'http://{connection_url}'))\n",
    "\n",
    "for n in range(100, 10000, 1000):\n",
    "    t0 = time()\n",
    "\n",
    "    async with pye.EthRPC(f\"ws://{connection_url}\") as erpc:\n",
    "        await erpc.get_block_by_number(\n",
    "            list(range(n)),\n",
    "            [True for i in range(n)]\n",
    "        )\n",
    "    print(f\"pythereum processed {n} get_block_by_number requests in {(pyetime := time() - t0)} seconds\")\n",
    "    print(f\"that's {n / pyetime} requests per second!\")\n",
    "\n",
    "    t0 = time()\n",
    "\n",
    "    for result in asyncio.as_completed(\n",
    "            [w3.eth.get_block(num, True) for num in range(n)]\n",
    "        ):\n",
    "          try:\n",
    "              await result\n",
    "          except:\n",
    "              pass\n",
    "\n",
    "    print(f\"Web3.py processed {n} get_block_by_number requests in {(w3time := time() - t0)} seconds\")\n",
    "    print(f\"that's {n / w3time} requests per second\")\n",
    "    \n",
    "    nsum += n\n",
    "    pyetimesum += pyetime\n",
    "    w3timesum += w3time\n",
    "    \n",
    "print(f\"\\nOn average pythereum processed {nsum / pyetimesum} requests per second and web3.py processed {nsum / w3timesum} requests per second\\nThat's a {w3timesum/pyetimesum} times speedup!\")\n",
    "    "
   ]
  },
  {
   "cell_type": "markdown",
   "id": "49ebc27e",
   "metadata": {},
   "source": [
    "### More intensive tests, with higher iteration numbers, both processed using asyncio.gather"
   ]
  },
  {
   "cell_type": "code",
   "execution_count": 4,
   "id": "fa000016",
   "metadata": {},
   "outputs": [
    {
     "name": "stdout",
     "output_type": "stream",
     "text": [
      "Pythereum made 1000000 requests in 134.84792470932007 seconds\n"
     ]
    }
   ],
   "source": [
    "t0 = time()\n",
    "\n",
    "# Pythereum using batch calls\n",
    "\n",
    "async with pye.EthRPC(f\"ws://{connection_url}\", pool_size=10) as erpc:\n",
    "    await asyncio.gather(*(\n",
    "        erpc.get_block_by_number(\n",
    "            [i for i in range(start, start+1000)], \n",
    "            [True for i in range(start, start+1000)]\n",
    "        ) for start in range(0, iterations, 1000)\n",
    "    ))\n",
    "print(f\"Pythereum made {iterations} requests in {(pyetime_intense := time() - t0)} seconds\")"
   ]
  },
  {
   "cell_type": "code",
   "execution_count": 5,
   "id": "5fae093d",
   "metadata": {},
   "outputs": [
    {
     "name": "stdout",
     "output_type": "stream",
     "text": [
      "Web3.py made 1000000 requests in 377.48311281204224 seconds\n"
     ]
    }
   ],
   "source": [
    "t0 = time()\n",
    "# Web3 does not natively support batch RPC calls\n",
    "\n",
    "async def blknum(num):\n",
    "    # Defined to handle errors as Web3.py does not like empty returns\n",
    "    # Yes it is better to have an exception type, no it doesnt really matter\n",
    "    try:\n",
    "        await w3.eth.get_block(num, True)\n",
    "    except:\n",
    "        pass\n",
    "\n",
    "await asyncio.gather(*(blknum(num) for num in range(iterations)))\n",
    "print(f\"Web3.py made {iterations} requests in {(w3time_intense := time() - t0)} seconds\")"
   ]
  },
  {
   "cell_type": "code",
   "execution_count": 6,
   "id": "12684e41",
   "metadata": {},
   "outputs": [
    {
     "name": "stdout",
     "output_type": "stream",
     "text": [
      "Pythereum is able to process transactions 2.79932459936443 times faster than Web3.py in intense testing,\n",
      "With Pythereum processing 7415.7611409713045 transactions per second,\n",
      "and Web3 processing 2649.1251292025972 transactions per second\n"
     ]
    }
   ],
   "source": [
    "print(f\"Pythereum is able to process transactions {w3time_intense / pyetime_intense} times faster than Web3.py in intense testing,\\nWith Pythereum processing {iterations / pyetime_intense} transactions per second,\\nand Web3 processing {iterations / w3time_intense} transactions per second\")"
   ]
  },
  {
   "cell_type": "markdown",
   "id": "c90b1a23",
   "metadata": {},
   "source": [
    "### Subscriptions"
   ]
  },
  {
   "cell_type": "code",
   "execution_count": 7,
   "id": "b2a74934",
   "metadata": {},
   "outputs": [],
   "source": [
    "# Pythereum subscription implementation, an infinite loop which gets block headers whenever new blocks are created\n",
    "\n",
    "# Web3.py has no native implementation of subscriptions, and as such would have to be coded from scratch\n",
    "\n",
    "# Items will be in the form of a Block object, with each json value converted into an appropriate data type\n",
    "\n",
    "# Running this on localhost will result in nothing happening as no blocks are being created!\n",
    "\n",
    "# async with pye.EthRPC(f\"ws://{connection_url}\") as erpc:\n",
    "#     async with erpc.subscribe(pye.SubscriptionType.new_heads) as sc:\n",
    "#         async for item in sc.recv():\n",
    "#             print(item)"
   ]
  },
  {
   "cell_type": "markdown",
   "id": "60a09474",
   "metadata": {},
   "source": [
    "### "
   ]
  }
 ],
 "metadata": {
  "kernelspec": {
   "display_name": "Python 3 (ipykernel)",
   "language": "python",
   "name": "python3"
  },
  "language_info": {
   "codemirror_mode": {
    "name": "ipython",
    "version": 3
   },
   "file_extension": ".py",
   "mimetype": "text/x-python",
   "name": "python",
   "nbconvert_exporter": "python",
   "pygments_lexer": "ipython3",
   "version": "3.11.5"
  }
 },
 "nbformat": 4,
 "nbformat_minor": 5
}
